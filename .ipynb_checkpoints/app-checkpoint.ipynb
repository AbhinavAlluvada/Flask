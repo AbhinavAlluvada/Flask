{
 "cells": [
  {
   "cell_type": "code",
   "execution_count": null,
   "id": "08fd34da-7a90-4a98-8dab-d349af497dcf",
   "metadata": {},
   "outputs": [],
   "source": [
    "from flask import Flask, request, render_template\n",
    "import pickle\n",
    "import numpy as np\n",
    "\n",
    "with open('hierarchical_model.pkl', 'rb') as model_file:\n",
    "    model = pickle.load(model_file)\n",
    "\n",
    "app = Flask(__name__)\n",
    "\n",
    "@app.route('/home')\n",
    "def home_page():\n",
    "    return render_template('home.html')\n",
    "\n",
    "@app.route('/predict', methods=['POST'])\n",
    "def predict():\n",
    "    try:\n",
    "        features = request.form['features']\n",
    "        features = np.array([float(x) for x in features.split(',')]).reshape(1, -1)\n",
    "        cluster_label = model.fit_predict(features)[0]\n",
    "        return render_template(\"result.html\", cluster=int(cluster_label))\n",
    "    except Exception as e:\n",
    "        return render_template(\"result.html\", cluster=\"Error\")\n",
    "\n",
    "if __name__ == '__main__':\n",
    "    app.run(debug=True)"
   ]
  },
  {
   "cell_type": "code",
   "execution_count": null,
   "id": "9a46a4c4-8ecb-4c22-8223-1495f8051fc2",
   "metadata": {},
   "outputs": [],
   "source": []
  }
 ],
 "metadata": {
  "kernelspec": {
   "display_name": "Python [conda env:base] *",
   "language": "python",
   "name": "conda-base-py"
  },
  "language_info": {
   "codemirror_mode": {
    "name": "ipython",
    "version": 3
   },
   "file_extension": ".py",
   "mimetype": "text/x-python",
   "name": "python",
   "nbconvert_exporter": "python",
   "pygments_lexer": "ipython3",
   "version": "3.12.7"
  }
 },
 "nbformat": 4,
 "nbformat_minor": 5
}
